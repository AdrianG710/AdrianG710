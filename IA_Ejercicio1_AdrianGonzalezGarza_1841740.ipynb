{
  "nbformat": 4,
  "nbformat_minor": 0,
  "metadata": {
    "colab": {
      "provenance": [],
      "collapsed_sections": []
    },
    "kernelspec": {
      "name": "python3",
      "display_name": "Python 3"
    },
    "language_info": {
      "name": "python"
    }
  },
  "cells": [
    {
      "cell_type": "markdown",
      "source": [
        "ACTIVIDAD 1: EJERCICIOS EN PHYTON\n",
        "Adrián Gonzalez Garza 1841740 N1"
      ],
      "metadata": {
        "id": "SmIZeZG_h-Ik"
      }
    },
    {
      "cell_type": "code",
      "execution_count": 18,
      "metadata": {
        "colab": {
          "base_uri": "https://localhost:8080/"
        },
        "id": "NiXO-3zyh4OH",
        "outputId": "04cd570f-022d-465f-c2fd-9e9e94b22f12"
      },
      "outputs": [
        {
          "output_type": "stream",
          "name": "stdout",
          "text": [
            "Hola Adrián\n"
          ]
        }
      ],
      "source": [
        "#1 Escribe un programa que le pida al usuario saludarlo por su nombre\n",
        "print (\"Hola Adrián\")"
      ]
    },
    {
      "cell_type": "code",
      "source": [
        "#2 Escribe una función que regrese el último elemento de una lista y que revierta el orden de la lista e imprima la lista revertida\n",
        "thislist = (\"apple\", \"banana\", \"cherry\" , \"durazno\", \"mango\", \"fresa\", \"coco\" )\n",
        "thislist2 = thislist[::-1]\n",
        "print(thislist2)"
      ],
      "metadata": {
        "colab": {
          "base_uri": "https://localhost:8080/"
        },
        "id": "T3ndTpXZjcbm",
        "outputId": "7ceeba5a-da72-4d49-ef9b-13e105730a2f"
      },
      "execution_count": 21,
      "outputs": [
        {
          "output_type": "stream",
          "name": "stdout",
          "text": [
            "('coco', 'fresa', 'mango', 'durazno', 'cherry', 'banana', 'apple')\n"
          ]
        }
      ]
    },
    {
      "cell_type": "code",
      "source": [
        "#3 Escribe una función que toma una lista de strings y los imrpima línea por línea en un marco rectangular\n",
        "a= \"\"\"Hola,\n",
        "me llamo Adrián\n",
        "estoy en clase de IA\n",
        "y esta es\n",
        "la primera vez\n",
        "que uso phyton\"\"\"\n",
        "print(a) "
      ],
      "metadata": {
        "colab": {
          "base_uri": "https://localhost:8080/"
        },
        "id": "aML8MM1yo2pQ",
        "outputId": "01cb4844-0b69-4f44-c793-063789d48b4c"
      },
      "execution_count": 23,
      "outputs": [
        {
          "output_type": "stream",
          "name": "stdout",
          "text": [
            "Hola,\n",
            "me llamo Adrián\n",
            "estoy en clase de IA\n",
            "y esta es\n",
            "la primera vez\n",
            "que uso phyton\n"
          ]
        }
      ]
    },
    {
      "cell_type": "code",
      "source": [],
      "metadata": {
        "id": "2OeLbYNesFmP"
      },
      "execution_count": null,
      "outputs": []
    }
  ]
}